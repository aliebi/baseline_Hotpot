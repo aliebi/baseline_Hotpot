{
  "nbformat": 4,
  "nbformat_minor": 0,
  "metadata": {
    "colab": {
      "name": "DFGN.ipynb",
      "provenance": [],
      "collapsed_sections": [],
      "mount_file_id": "1Iyu8qmVc-2UhVa1-AqkK953eE-TpzRT-",
      "authorship_tag": "ABX9TyO4P91+YuJkympsgV32oJ1N",
      "include_colab_link": true
    },
    "kernelspec": {
      "name": "python3",
      "display_name": "Python 3"
    },
    "accelerator": "GPU"
  },
  "cells": [
    {
      "cell_type": "markdown",
      "metadata": {
        "id": "view-in-github",
        "colab_type": "text"
      },
      "source": [
        "<a href=\"https://colab.research.google.com/github/aliebi/baseline_Hotpot/blob/main/DFGN.ipynb\" target=\"_parent\"><img src=\"https://colab.research.google.com/assets/colab-badge.svg\" alt=\"Open In Colab\"/></a>"
      ]
    },
    {
      "cell_type": "code",
      "metadata": {
        "colab": {
          "base_uri": "https://localhost:8080/"
        },
        "id": "UDNzFFjM4r9I",
        "outputId": "32ed7539-76e9-4de3-aa00-a107772a31fe"
      },
      "source": [
        "ls\r\n"
      ],
      "execution_count": 16,
      "outputs": [
        {
          "output_type": "stream",
          "text": [
            "bert-base-cased.tar.gz         hotpot_ss_dev.csv\n",
            "bert-base-cased-vocab.txt      hotpot_ss_train.csv\n",
            "bert-base-uncased.tar.gz       hotpot_train_v1.1.json\n",
            "bert-base-uncased-vocab.txt    \u001b[0m\u001b[01;34minput\u001b[0m/\n",
            "\u001b[01;34mckpt\u001b[0m/                          \u001b[01;34moutput\u001b[0m/\n",
            "\u001b[01;34mDFGN-pytorch\u001b[0m/                  para_select_model.bin\n",
            "hotpot_dev_distractor_v1.json\n"
          ],
          "name": "stdout"
        }
      ]
    },
    {
      "cell_type": "code",
      "metadata": {
        "colab": {
          "base_uri": "https://localhost:8080/"
        },
        "id": "jY4CmbfV4uRE",
        "outputId": "01a18868-8fc6-4d65-c0db-8d78f7e35ace"
      },
      "source": [
        "!git clone https://github.com/aliebi/DFGN-pytorch.git"
      ],
      "execution_count": 15,
      "outputs": [
        {
          "output_type": "stream",
          "text": [
            "Cloning into 'DFGN-pytorch'...\n",
            "remote: Enumerating objects: 133, done.\u001b[K\n",
            "remote: Total 133 (delta 0), reused 0 (delta 0), pack-reused 133\u001b[K\n",
            "Receiving objects: 100% (133/133), 1.07 MiB | 14.38 MiB/s, done.\n",
            "Resolving deltas: 100% (56/56), done.\n"
          ],
          "name": "stdout"
        }
      ]
    },
    {
      "cell_type": "code",
      "metadata": {
        "colab": {
          "base_uri": "https://localhost:8080/"
        },
        "id": "DgA4okZK7Ocm",
        "outputId": "075fd880-dd78-46a2-e814-e42ac41007fd"
      },
      "source": [
        "ls"
      ],
      "execution_count": 17,
      "outputs": [
        {
          "output_type": "stream",
          "text": [
            "bert-base-cased.tar.gz       hotpot_dev_distractor_v1.json\n",
            "bert-base-cased-vocab.txt    hotpot_ss_dev.csv\n",
            "bert-base-uncased.tar.gz     hotpot_ss_train.csv\n",
            "bert-base-uncased-vocab.txt  hotpot_train_v1.1.json\n",
            "\u001b[0m\u001b[01;34mckpt\u001b[0m/                        \u001b[01;34minput\u001b[0m/\n",
            "\u001b[01;34mDFGN-pytorch\u001b[0m/                \u001b[01;34moutput\u001b[0m/\n"
          ],
          "name": "stdout"
        }
      ]
    },
    {
      "cell_type": "code",
      "metadata": {
        "colab": {
          "base_uri": "https://localhost:8080/"
        },
        "id": "cP5oNNHf7j-e",
        "outputId": "2207635c-3e94-46b2-f290-e2c34f7e450d"
      },
      "source": [
        "ls"
      ],
      "execution_count": 19,
      "outputs": [
        {
          "output_type": "stream",
          "text": [
            "\u001b[0m\u001b[01;34mbert_ner\u001b[0m/  example.png  \u001b[01;34mparagraph_selection\u001b[0m/  readme.md\n",
            "\u001b[01;34mDFGN\u001b[0m/      LICENSE      preprocess.sh\n"
          ],
          "name": "stdout"
        }
      ]
    },
    {
      "cell_type": "code",
      "metadata": {
        "id": "Kcbgrv3g7of2"
      },
      "source": [
        "! chmod +rx preprocess.sh"
      ],
      "execution_count": 51,
      "outputs": []
    },
    {
      "cell_type": "code",
      "metadata": {
        "colab": {
          "base_uri": "https://localhost:8080/",
          "height": 508
        },
        "id": "T2CO8ZnX_XBH",
        "outputId": "4608c310-1d4e-482c-d83d-683ae542783d"
      },
      "source": [
        "pip install boto3"
      ],
      "execution_count": 53,
      "outputs": [
        {
          "output_type": "stream",
          "text": [
            "Collecting boto3\n",
            "\u001b[?25l  Downloading https://files.pythonhosted.org/packages/55/c6/912cc2cfd1b4051621552fc5961c25e2f517a090d179a38f62d5cdaf5d37/boto3-1.16.43-py2.py3-none-any.whl (130kB)\n",
            "\r\u001b[K     |██▌                             | 10kB 22.2MB/s eta 0:00:01\r\u001b[K     |█████                           | 20kB 27.9MB/s eta 0:00:01\r\u001b[K     |███████▌                        | 30kB 11.5MB/s eta 0:00:01\r\u001b[K     |██████████                      | 40kB 6.4MB/s eta 0:00:01\r\u001b[K     |████████████▋                   | 51kB 6.6MB/s eta 0:00:01\r\u001b[K     |███████████████                 | 61kB 7.7MB/s eta 0:00:01\r\u001b[K     |█████████████████▋              | 71kB 8.3MB/s eta 0:00:01\r\u001b[K     |████████████████████▏           | 81kB 8.7MB/s eta 0:00:01\r\u001b[K     |██████████████████████▋         | 92kB 9.2MB/s eta 0:00:01\r\u001b[K     |█████████████████████████▏      | 102kB 7.0MB/s eta 0:00:01\r\u001b[K     |███████████████████████████▊    | 112kB 7.0MB/s eta 0:00:01\r\u001b[K     |██████████████████████████████▏ | 122kB 7.0MB/s eta 0:00:01\r\u001b[K     |████████████████████████████████| 133kB 7.0MB/s \n",
            "\u001b[?25hCollecting s3transfer<0.4.0,>=0.3.0\n",
            "\u001b[?25l  Downloading https://files.pythonhosted.org/packages/69/79/e6afb3d8b0b4e96cefbdc690f741d7dd24547ff1f94240c997a26fa908d3/s3transfer-0.3.3-py2.py3-none-any.whl (69kB)\n",
            "\u001b[K     |████████████████████████████████| 71kB 7.9MB/s \n",
            "\u001b[?25hCollecting botocore<1.20.0,>=1.19.43\n",
            "\u001b[?25l  Downloading https://files.pythonhosted.org/packages/ef/6c/9f6e6a14f53b21b6f1670ccd789082015911458823914b7dabca333ae033/botocore-1.19.43-py2.py3-none-any.whl (7.2MB)\n",
            "\u001b[K     |████████████████████████████████| 7.2MB 12.3MB/s \n",
            "\u001b[?25hCollecting jmespath<1.0.0,>=0.7.1\n",
            "  Downloading https://files.pythonhosted.org/packages/07/cb/5f001272b6faeb23c1c9e0acc04d48eaaf5c862c17709d20e3469c6e0139/jmespath-0.10.0-py2.py3-none-any.whl\n",
            "Requirement already satisfied: python-dateutil<3.0.0,>=2.1 in /usr/local/lib/python3.6/dist-packages (from botocore<1.20.0,>=1.19.43->boto3) (2.8.1)\n",
            "Collecting urllib3<1.27,>=1.25.4; python_version != \"3.4\"\n",
            "\u001b[?25l  Downloading https://files.pythonhosted.org/packages/f5/71/45d36a8df68f3ebb098d6861b2c017f3d094538c0fb98fa61d4dc43e69b9/urllib3-1.26.2-py2.py3-none-any.whl (136kB)\n",
            "\u001b[K     |████████████████████████████████| 143kB 39.3MB/s \n",
            "\u001b[?25hRequirement already satisfied: six>=1.5 in /usr/local/lib/python3.6/dist-packages (from python-dateutil<3.0.0,>=2.1->botocore<1.20.0,>=1.19.43->boto3) (1.15.0)\n",
            "\u001b[31mERROR: requests 2.23.0 has requirement urllib3!=1.25.0,!=1.25.1,<1.26,>=1.21.1, but you'll have urllib3 1.26.2 which is incompatible.\u001b[0m\n",
            "\u001b[31mERROR: datascience 0.10.6 has requirement folium==0.2.1, but you'll have folium 0.8.3 which is incompatible.\u001b[0m\n",
            "Installing collected packages: urllib3, jmespath, botocore, s3transfer, boto3\n",
            "  Found existing installation: urllib3 1.24.3\n",
            "    Uninstalling urllib3-1.24.3:\n",
            "      Successfully uninstalled urllib3-1.24.3\n",
            "Successfully installed boto3-1.16.43 botocore-1.19.43 jmespath-0.10.0 s3transfer-0.3.3 urllib3-1.26.2\n"
          ],
          "name": "stdout"
        },
        {
          "output_type": "display_data",
          "data": {
            "application/vnd.colab-display-data+json": {
              "pip_warning": {
                "packages": [
                  "urllib3"
                ]
              }
            }
          },
          "metadata": {
            "tags": []
          }
        }
      ]
    },
    {
      "cell_type": "code",
      "metadata": {
        "colab": {
          "base_uri": "https://localhost:8080/"
        },
        "id": "aa0VVnEx7tQ0",
        "outputId": "f3dffc11-0015-47ab-97d8-fe0465469adf"
      },
      "source": [
        "! ./preprocess.sh /content/drive/MyDrive/DFGN/hotpot_dev_distractor_v1.json"
      ],
      "execution_count": 55,
      "outputs": [
        {
          "output_type": "stream",
          "text": [
            "/usr/local/lib/python3.6/dist-packages/requests/__init__.py:91: RequestsDependencyWarning: urllib3 (1.26.2) or chardet (3.0.4) doesn't match a supported version!\n",
            "  RequestsDependencyWarning)\n",
            "Better speed can be achieved with apex installed from https://www.github.com/nvidia/apex.\n",
            "12/27/2020 16:25:12 - INFO - pytorch_pretrained_bert.modeling -   loading archive file /content/drive/MyDrive/DFGN/bert-base-cased.tar.gz\n",
            "12/27/2020 16:25:12 - INFO - pytorch_pretrained_bert.modeling -   extracting archive file /content/drive/MyDrive/DFGN/bert-base-cased.tar.gz to temp dir tem_dir\n",
            "12/27/2020 16:25:18 - INFO - pytorch_pretrained_bert.modeling -   Model config {\n",
            "  \"attention_probs_dropout_prob\": 0.1,\n",
            "  \"hidden_act\": \"gelu\",\n",
            "  \"hidden_dropout_prob\": 0.1,\n",
            "  \"hidden_size\": 768,\n",
            "  \"initializer_range\": 0.02,\n",
            "  \"intermediate_size\": 3072,\n",
            "  \"max_position_embeddings\": 512,\n",
            "  \"num_attention_heads\": 12,\n",
            "  \"num_hidden_layers\": 12,\n",
            "  \"type_vocab_size\": 2,\n",
            "  \"vocab_size\": 28996\n",
            "}\n",
            "\n",
            "12/27/2020 16:25:21 - INFO - pytorch_pretrained_bert.tokenization -   loading vocabulary file /content/drive/MyDrive/DFGN/bert-base-cased-vocab.txt\n",
            "  0% 0/73700 [00:00<?, ?it/s]12/27/2020 16:25:32 - INFO - __main__ -   *** Example ***\n",
            "12/27/2020 16:25:32 - INFO - __main__ -   guid: test-0\n",
            "12/27/2020 16:25:32 - INFO - __main__ -   tokens: [CLS] Were Scott Derrick ##son and Ed Wood of the same nationality ? [SEP] Ed Wood is a 1994 American biographical period comedy - drama film directed and produced by Tim Burton , and starring Johnny De ##pp as cult filmmaker Ed Wood . The film concerns the period in Wood ' s life when he made his best - known films as well as his relationship with actor Bel ##a Lu ##gos ##i , played by Martin Land ##au . Sarah Jessica Parker , Patricia A ##rque ##tte , Jeffrey Jones , Lisa Marie , and Bill Murray are among the supporting cast . Ed Wood ( film ) [SEP]\n",
            "12/27/2020 16:25:32 - INFO - __main__ -   input_ids: 101 8640 2796 21281 2142 1105 5316 5296 1104 1103 1269 11242 136 102 5316 5296 1110 170 1898 1237 21204 1669 3789 118 3362 1273 2002 1105 1666 1118 4446 9395 117 1105 3937 4414 3177 8661 1112 9528 13140 5316 5296 119 1109 1273 5365 1103 1669 1107 5296 112 188 1297 1165 1119 1189 1117 1436 118 1227 2441 1112 1218 1112 1117 2398 1114 2811 26744 1161 14557 12443 1182 117 1307 1118 2405 4026 3984 119 3696 7788 5597 117 10711 138 23121 3786 117 10708 2690 117 6516 4238 117 1105 2617 5593 1132 1621 1103 4374 2641 119 5316 5296 113 1273 114 102 0 0 0 0 0 0 0 0 0 0 0 0 0 0 0 0 0\n",
            "12/27/2020 16:25:32 - INFO - __main__ -   input_mask: 1 1 1 1 1 1 1 1 1 1 1 1 1 1 1 1 1 1 1 1 1 1 1 1 1 1 1 1 1 1 1 1 1 1 1 1 1 1 1 1 1 1 1 1 1 1 1 1 1 1 1 1 1 1 1 1 1 1 1 1 1 1 1 1 1 1 1 1 1 1 1 1 1 1 1 1 1 1 1 1 1 1 1 1 1 1 1 1 1 1 1 1 1 1 1 1 1 1 1 1 1 1 1 1 1 1 1 1 1 1 1 0 0 0 0 0 0 0 0 0 0 0 0 0 0 0 0 0\n",
            "12/27/2020 16:25:32 - INFO - __main__ -   segment_ids: 0 0 0 0 0 0 0 0 0 0 0 0 0 0 1 1 1 1 1 1 1 1 1 1 1 1 1 1 1 1 1 1 1 1 1 1 1 1 1 1 1 1 1 1 1 1 1 1 1 1 1 1 1 1 1 1 1 1 1 1 1 1 1 1 1 1 1 1 1 1 1 1 1 1 1 1 1 1 1 1 1 1 1 1 1 1 1 1 1 1 1 1 1 1 1 1 1 1 1 1 1 1 1 1 1 1 1 1 1 1 1 0 0 0 0 0 0 0 0 0 0 0 0 0 0 0 0 0\n",
            "12/27/2020 16:25:32 - INFO - __main__ -   label: 0 (id = 0)\n",
            "12/27/2020 16:25:32 - INFO - __main__ -   *** Example ***\n",
            "12/27/2020 16:25:32 - INFO - __main__ -   guid: test-1\n",
            "12/27/2020 16:25:32 - INFO - __main__ -   tokens: [CLS] Were Scott Derrick ##son and Ed Wood of the same nationality ? [SEP] Scott Derrick ##son ( born July 16 , 1966 ) is an American director , screenwriter and producer . He lives in Los Angeles , California . He is best known for directing horror films such as \" Sin ##ister \" , \" The Ex ##or ##cis ##m of Emily Rose \" , and \" Del ##iver Us From Evil \" , as well as the 2016 Marvel Cinema ##tic Universe installment , \" Doctor Strange . \" Scott Derrick ##son [SEP]\n",
            "12/27/2020 16:25:32 - INFO - __main__ -   input_ids: 101 8640 2796 21281 2142 1105 5316 5296 1104 1103 1269 11242 136 102 2796 21281 2142 113 1255 1351 1479 117 2678 114 1110 1126 1237 1900 117 11625 1105 2451 119 1124 2491 1107 2238 2460 117 1756 119 1124 1110 1436 1227 1111 10404 5367 2441 1216 1112 107 14009 11419 107 117 107 1109 16409 1766 21349 1306 1104 5590 3831 107 117 1105 107 9352 18053 11155 1622 11299 107 117 1112 1218 1112 1103 1446 8370 10371 2941 9121 20669 117 107 4157 11359 119 107 2796 21281 2142 102 0 0 0 0 0 0 0 0 0 0 0 0 0 0 0 0 0 0 0 0 0 0 0 0 0 0 0 0 0 0 0 0\n",
            "12/27/2020 16:25:32 - INFO - __main__ -   input_mask: 1 1 1 1 1 1 1 1 1 1 1 1 1 1 1 1 1 1 1 1 1 1 1 1 1 1 1 1 1 1 1 1 1 1 1 1 1 1 1 1 1 1 1 1 1 1 1 1 1 1 1 1 1 1 1 1 1 1 1 1 1 1 1 1 1 1 1 1 1 1 1 1 1 1 1 1 1 1 1 1 1 1 1 1 1 1 1 1 1 1 1 1 1 1 1 1 0 0 0 0 0 0 0 0 0 0 0 0 0 0 0 0 0 0 0 0 0 0 0 0 0 0 0 0 0 0 0 0\n",
            "12/27/2020 16:25:32 - INFO - __main__ -   segment_ids: 0 0 0 0 0 0 0 0 0 0 0 0 0 0 1 1 1 1 1 1 1 1 1 1 1 1 1 1 1 1 1 1 1 1 1 1 1 1 1 1 1 1 1 1 1 1 1 1 1 1 1 1 1 1 1 1 1 1 1 1 1 1 1 1 1 1 1 1 1 1 1 1 1 1 1 1 1 1 1 1 1 1 1 1 1 1 1 1 1 1 1 1 1 1 1 1 0 0 0 0 0 0 0 0 0 0 0 0 0 0 0 0 0 0 0 0 0 0 0 0 0 0 0 0 0 0 0 0\n",
            "12/27/2020 16:25:32 - INFO - __main__ -   label: 0 (id = 0)\n",
            "12/27/2020 16:25:32 - INFO - __main__ -   *** Example ***\n",
            "12/27/2020 16:25:32 - INFO - __main__ -   guid: test-2\n",
            "12/27/2020 16:25:32 - INFO - __main__ -   tokens: [CLS] Were Scott Derrick ##son and Ed Wood of the same nationality ? [SEP] Woods ##on is a census - designated place ( CDP ) in P ##ula ##ski County , Arkansas , in the United States . Its population was 40 ##3 at the 2010 census . It is part of the Little Rock – North Little Rock – Conway Metropolitan Statistical Area . Woods ##on and its accompanying Woods ##on Lake and Wood Hollow are the namesake for Ed Wood Sr . , a prominent plantation owner , trader , and businessman at the turn of the 20th century . Woods ##on is adjacent to the Wood Plantation , the largest of the plantations own by Ed Wood Sr . Woods ##on , Arkansas [SEP]\n",
            "12/27/2020 16:25:32 - INFO - __main__ -   input_ids: 101 8640 2796 21281 2142 1105 5316 5296 1104 1103 1269 11242 136 102 8726 1320 1110 170 2314 118 3574 1282 113 8170 114 1107 153 5886 5437 1391 117 6147 117 1107 1103 1244 1311 119 2098 1416 1108 1969 1495 1120 1103 1333 2314 119 1135 1110 1226 1104 1103 2743 2977 782 1456 2743 2977 782 15452 5458 12121 3894 119 8726 1320 1105 1157 11227 8726 1320 2161 1105 5296 19098 1132 1103 18777 1111 5316 5296 8731 119 117 170 3289 12739 3172 117 22574 117 1105 6414 1120 1103 1885 1104 1103 3116 1432 119 8726 1320 1110 4903 1106 1103 5296 22849 117 1103 2026 1104 1103 16666 1319 1118 5316 5296 8731 119 8726 1320 117 6147 102 0\n",
            "12/27/2020 16:25:32 - INFO - __main__ -   input_mask: 1 1 1 1 1 1 1 1 1 1 1 1 1 1 1 1 1 1 1 1 1 1 1 1 1 1 1 1 1 1 1 1 1 1 1 1 1 1 1 1 1 1 1 1 1 1 1 1 1 1 1 1 1 1 1 1 1 1 1 1 1 1 1 1 1 1 1 1 1 1 1 1 1 1 1 1 1 1 1 1 1 1 1 1 1 1 1 1 1 1 1 1 1 1 1 1 1 1 1 1 1 1 1 1 1 1 1 1 1 1 1 1 1 1 1 1 1 1 1 1 1 1 1 1 1 1 1 0\n",
            "12/27/2020 16:25:32 - INFO - __main__ -   segment_ids: 0 0 0 0 0 0 0 0 0 0 0 0 0 0 1 1 1 1 1 1 1 1 1 1 1 1 1 1 1 1 1 1 1 1 1 1 1 1 1 1 1 1 1 1 1 1 1 1 1 1 1 1 1 1 1 1 1 1 1 1 1 1 1 1 1 1 1 1 1 1 1 1 1 1 1 1 1 1 1 1 1 1 1 1 1 1 1 1 1 1 1 1 1 1 1 1 1 1 1 1 1 1 1 1 1 1 1 1 1 1 1 1 1 1 1 1 1 1 1 1 1 1 1 1 1 1 1 0\n",
            "12/27/2020 16:25:32 - INFO - __main__ -   label: 0 (id = 0)\n",
            "12/27/2020 16:25:32 - INFO - __main__ -   *** Example ***\n",
            "12/27/2020 16:25:32 - INFO - __main__ -   guid: test-3\n",
            "12/27/2020 16:25:32 - INFO - __main__ -   tokens: [CLS] Were Scott Derrick ##son and Ed Wood of the same nationality ? [SEP] Tyler Bates ( born June 5 , 1965 ) is an American musician , music producer , and composer for films , television , and video games . Much of his work is in the action and horror film genres , with films like \" Dawn of the Dead , 300 , Su ##cker Punch , \" and \" John W ##ick . \" He has collaborated with directors like Zack Snyder , Rob Zombie , Neil Marshall , William Fr ##ied ##kin , Scott Derrick ##son , and James Gunn . With Gunn , he has scored every one of the director ' s films ; including \" Guardians of the Galaxy [SEP]\n",
            "12/27/2020 16:25:32 - INFO - __main__ -   input_ids: 101 8640 2796 21281 2142 1105 5316 5296 1104 1103 1269 11242 136 102 6952 11197 113 1255 1340 126 117 2679 114 1110 1126 1237 4933 117 1390 2451 117 1105 3996 1111 2441 117 1778 117 1105 1888 1638 119 6335 1104 1117 1250 1110 1107 1103 2168 1105 5367 1273 11688 117 1114 2441 1176 107 9194 1104 1103 5620 117 3127 117 15463 8638 25487 117 107 1105 107 1287 160 5345 119 107 1124 1144 8303 1114 6435 1176 14064 19181 117 6284 25249 117 6003 5137 117 1613 13359 4830 4314 117 2796 21281 2142 117 1105 1600 24457 119 1556 24457 117 1119 1144 2297 1451 1141 1104 1103 1900 112 188 2441 132 1259 107 21444 1104 1103 13021 102\n",
            "12/27/2020 16:25:32 - INFO - __main__ -   input_mask: 1 1 1 1 1 1 1 1 1 1 1 1 1 1 1 1 1 1 1 1 1 1 1 1 1 1 1 1 1 1 1 1 1 1 1 1 1 1 1 1 1 1 1 1 1 1 1 1 1 1 1 1 1 1 1 1 1 1 1 1 1 1 1 1 1 1 1 1 1 1 1 1 1 1 1 1 1 1 1 1 1 1 1 1 1 1 1 1 1 1 1 1 1 1 1 1 1 1 1 1 1 1 1 1 1 1 1 1 1 1 1 1 1 1 1 1 1 1 1 1 1 1 1 1 1 1 1 1\n",
            "12/27/2020 16:25:32 - INFO - __main__ -   segment_ids: 0 0 0 0 0 0 0 0 0 0 0 0 0 0 1 1 1 1 1 1 1 1 1 1 1 1 1 1 1 1 1 1 1 1 1 1 1 1 1 1 1 1 1 1 1 1 1 1 1 1 1 1 1 1 1 1 1 1 1 1 1 1 1 1 1 1 1 1 1 1 1 1 1 1 1 1 1 1 1 1 1 1 1 1 1 1 1 1 1 1 1 1 1 1 1 1 1 1 1 1 1 1 1 1 1 1 1 1 1 1 1 1 1 1 1 1 1 1 1 1 1 1 1 1 1 1 1 1\n",
            "12/27/2020 16:25:32 - INFO - __main__ -   label: 0 (id = 0)\n",
            "12/27/2020 16:25:32 - INFO - __main__ -   *** Example ***\n",
            "12/27/2020 16:25:32 - INFO - __main__ -   guid: test-4\n",
            "12/27/2020 16:25:32 - INFO - __main__ -   tokens: [CLS] Were Scott Derrick ##son and Ed Wood of the same nationality ? [SEP] Edward Davis Wood Jr . ( October 10 , 1924 – December 10 , 1978 ) was an American filmmaker , actor , writer , producer , and director . Ed Wood [SEP]\n",
            "12/27/2020 16:25:32 - INFO - __main__ -   input_ids: 101 8640 2796 21281 2142 1105 5316 5296 1104 1103 1269 11242 136 102 2594 3635 5296 3108 119 113 1357 1275 117 4002 782 1382 1275 117 2406 114 1108 1126 1237 13140 117 2811 117 2432 117 2451 117 1105 1900 119 5316 5296 102 0 0 0 0 0 0 0 0 0 0 0 0 0 0 0 0 0 0 0 0 0 0 0 0 0 0 0 0 0 0 0 0 0 0 0 0 0 0 0 0 0 0 0 0 0 0 0 0 0 0 0 0 0 0 0 0 0 0 0 0 0 0 0 0 0 0 0 0 0 0 0 0 0 0 0 0 0 0 0 0 0\n",
            "12/27/2020 16:25:32 - INFO - __main__ -   input_mask: 1 1 1 1 1 1 1 1 1 1 1 1 1 1 1 1 1 1 1 1 1 1 1 1 1 1 1 1 1 1 1 1 1 1 1 1 1 1 1 1 1 1 1 1 1 1 1 0 0 0 0 0 0 0 0 0 0 0 0 0 0 0 0 0 0 0 0 0 0 0 0 0 0 0 0 0 0 0 0 0 0 0 0 0 0 0 0 0 0 0 0 0 0 0 0 0 0 0 0 0 0 0 0 0 0 0 0 0 0 0 0 0 0 0 0 0 0 0 0 0 0 0 0 0 0 0 0 0\n",
            "12/27/2020 16:25:32 - INFO - __main__ -   segment_ids: 0 0 0 0 0 0 0 0 0 0 0 0 0 0 1 1 1 1 1 1 1 1 1 1 1 1 1 1 1 1 1 1 1 1 1 1 1 1 1 1 1 1 1 1 1 1 1 0 0 0 0 0 0 0 0 0 0 0 0 0 0 0 0 0 0 0 0 0 0 0 0 0 0 0 0 0 0 0 0 0 0 0 0 0 0 0 0 0 0 0 0 0 0 0 0 0 0 0 0 0 0 0 0 0 0 0 0 0 0 0 0 0 0 0 0 0 0 0 0 0 0 0 0 0 0 0 0 0\n",
            "12/27/2020 16:25:32 - INFO - __main__ -   label: 0 (id = 0)\n",
            "100% 73700/73700 [01:45<00:00, 696.64it/s]\n",
            "12/27/2020 16:27:18 - INFO - __main__ -   ***** Running evaluation *****\n",
            "12/27/2020 16:27:18 - INFO - __main__ -     Num examples = 73700\n",
            "12/27/2020 16:27:18 - INFO - __main__ -     Batch size = 32\n",
            "Evaluation: 100% 2304/2304 [22:07<00:00,  1.74it/s]\n",
            "12/27/2020 16:49:26 - INFO - __main__ -   ***** Eval results *****\n",
            "12/27/2020 16:49:26 - INFO - __main__ -     eval_accuracy = 0.8098236092265944\n",
            "12/27/2020 16:49:26 - INFO - __main__ -     eval_loss = 1.012369896272301\n",
            "12/27/2020 16:49:26 - INFO - __main__ -   ***** Writting Predictions ******\n"
          ],
          "name": "stdout"
        }
      ]
    },
    {
      "cell_type": "code",
      "metadata": {
        "colab": {
          "base_uri": "https://localhost:8080/"
        },
        "id": "le-9iyzhHENI",
        "outputId": "a63ebf9e-a21d-4df6-ad4a-36811dcdc839"
      },
      "source": [
        "ls"
      ],
      "execution_count": 56,
      "outputs": [
        {
          "output_type": "stream",
          "text": [
            "\u001b[0m\u001b[01;34mbert_ner\u001b[0m/  example.png  \u001b[01;34mparagraph_selection\u001b[0m/  \u001b[01;32mpreprocess.sh\u001b[0m*\n",
            "\u001b[01;34mDFGN\u001b[0m/      LICENSE      pred_score.csv        readme.md\n"
          ],
          "name": "stdout"
        }
      ]
    }
  ]
}